{
 "cells": [
  {
   "cell_type": "code",
   "execution_count": 1,
   "metadata": {},
   "outputs": [],
   "source": [
    "###########LOAD LIBRARIES###############\n",
    "#########PUBLIC LIBRARIES#############\n",
    "import torch                                         \n",
    "import os                                            \n",
    "import cv2\n",
    "import argparse                                           \n",
    "import torch.nn as nn                                \n",
    "import random                                        \n",
    "import torch.nn.functional as F                      \n",
    "import torchvision.datasets as dset                  \n",
    "import torchvision.transforms as transforms           \n",
    "import torchvision.utils as utils                    \n",
    "import numpy as np\n",
    "import pickle                                   \n",
    "from torch.autograd import Variable                  \n",
    "from torch import optim                              \n",
    "from torch.utils.data import Dataset, DataLoader\n",
    "from PIL import Image\n",
    "#########OUR FUNCTIONS###############\n",
    "from Process_Label import color_to_classes"
   ]
  },
  {
   "cell_type": "code",
   "execution_count": 2,
   "metadata": {},
   "outputs": [],
   "source": [
    "#########DATASET CLASS##################\n",
    "class BodyPoseSet(Dataset):\n",
    "    \"\"\"Body pose dataset\"\"\"\n",
    "    def __init__(self, root_dir='./', mode='train', img_transform=None, label_transform=None):\n",
    "        self.root_dir = root_dir\n",
    "        self.mode = mode\n",
    "        self.all_imgs, self.all_labels = self.parse_files()\n",
    "        self.img_transform = img_transform\n",
    "        self.label_transform = label_transform\n",
    "\n",
    "    def __len__(self):\n",
    "        return len(self.all_imgs)\n",
    "\n",
    "    def __getitem__(self, idx):\n",
    "        img_name = self.all_imgs[idx]\n",
    "        img_path = os.path.join(self.root_dir, img_name)\n",
    "        label_name= self.all_labels[idx]\n",
    "        label_path = os.path.join(self.root_dir, label_name)\n",
    "        img = Image.open(img_path).convert('L')\n",
    "        label = Image.open(label_path)\n",
    "        label = torch.LongTensor(color_to_classes(label))\n",
    "\n",
    "        \n",
    "        if self.img_transform is not None:\n",
    "            img = self.img_transform(img)\n",
    "        if self.label_transform is not None:\n",
    "            label = self.label_transform(label)\n",
    "            \n",
    "        sample = {'img':img, 'label':label}\n",
    "\n",
    "        return sample\n",
    "\n",
    "    def parse_files(self):\n",
    "        all_imgs = []\n",
    "        all_labels = []\n",
    "        for a in ['easy-pose']:\n",
    "            for b in [i+1 for i in range(35)]:\n",
    "                #if b == 36 or b == 106 or b == 178 or b == 72:\n",
    "                    #continue\n",
    "                for c in ['Cam1','Cam2','Cam3']:\n",
    "                    for d in [\"{0:04}\".format(i+1) for i in range(1001)]:\n",
    "                        img_name = \"%s/%s/%d/images/depthRender/%s/mayaProject.00%s.png\" %(a,self.mode,b,c,d)\n",
    "                        all_imgs.append(img_name)\n",
    "                        label_name = \"%s/%s/%d/images/groundtruth/%s/mayaProject.00%s.png\" %(a,self.mode,b,c,d)\n",
    "                        all_labels.append(label_name)\n",
    "        return all_imgs, all_labels"
   ]
  },
  {
   "cell_type": "code",
   "execution_count": 3,
   "metadata": {},
   "outputs": [],
   "source": [
    "#########NET WORK STRUCTURE###########\n",
    "class Body_Net(nn.Module):\n",
    "    def __init__(self):\n",
    "        super(Body_Net, self).__init__()\n",
    "        self.conv1 = nn.Conv2d(1, 64, kernel_size=5, stride=2, padding=5)\n",
    "        self.relu1 = nn.ReLU()\n",
    "        self.pool1 = nn.MaxPool2d(kernel_size=3, stride=3)\n",
    "        self.conv2 = nn.Conv2d(64, 128, kernel_size=3, stride=1)\n",
    "        self.relu2 = nn.ReLU()\n",
    "        self.pool2 = nn.MaxPool2d(kernel_size=2, stride=2)\n",
    "        self.conv3 = nn.Conv2d(128, 256, kernel_size=5, stride=1)\n",
    "        self.relu3 = nn.ReLU()\n",
    "        self.conv4_class = nn.Conv2d(256, 44, kernel_size=3, stride=1)\n",
    "        self.upscore1 = nn.ConvTranspose2d(44, 44, kernel_size=3, stride=1, bias=False)\n",
    "        self.score_pool2 = nn.Conv2d(128, 44, kernel_size=1, stride=1)\n",
    "        self.dropout = nn.Dropout2d()  # defualt = 0.5, which is used in paper\n",
    "        self.upscore2 = nn.ConvTranspose2d(44, 44, kernel_size=4, stride=2, bias=False)\n",
    "        self.score_pool1 = nn.Conv2d(64, 44, kernel_size=1, stride=1)\n",
    "        self.upscore3 = nn.ConvTranspose2d(44, 44, kernel_size=19, stride=7, bias=False)\n",
    "        self.prob = nn.LogSoftmax(dim=1)\n",
    "\n",
    "    def forward(self, data):\n",
    "        h = data\n",
    "        h = self.relu1(self.conv1(h))\n",
    "        h = self.pool1(h)\n",
    "        # record pool 1\n",
    "        pool1 = h\n",
    "        h = self.relu2(self.conv2(h))\n",
    "        h = self.pool2(h)\n",
    "        # record pool 2\n",
    "        pool2 = h\n",
    "        h = self.relu3(self.conv3(h))\n",
    "        h = self.conv4_class(h)\n",
    "        h = self.upscore1(h)\n",
    "        # upsample output\n",
    "        upscore1 = h\n",
    "        # crop pool2 and fuse with upscore1\n",
    "        h =  self.score_pool2(pool2)\n",
    "        h = h[:, :, 1:17, 1:17]\n",
    "        score_pool2 = h\n",
    "        h = upscore1 + score_pool2\n",
    "        h = self.dropout(h)\n",
    "        # upsample output\n",
    "        h = self.upscore2(h)\n",
    "        upscore2 = h\n",
    "        # crop pool1 and fuse with upscore2\n",
    "        h = self.score_pool1(pool1)\n",
    "        h = h[:, :, 3:37, 3:37]\n",
    "        score_pool1 = h\n",
    "        h = upscore2 + score_pool1\n",
    "        h = self.dropout(h)\n",
    "        output = self.upscore3(h)\n",
    "        # compute cross entropy \n",
    "        output = self.prob(output)\n",
    "        return output"
   ]
  },
  {
   "cell_type": "code",
   "execution_count": 4,
   "metadata": {},
   "outputs": [],
   "source": [
    "weights_dir = \"./params_NLLLoss2d.pth.tar\"\n",
    "\n",
    "# Setting up configuration\n",
    "configs = {\"batch_train\": 16, \\\n",
    "            \"batch_test\": 4, \\\n",
    "            \"epochs\": 2, \\\n",
    "            \"num_workers\": 4, \\\n",
    "            \"learning_rate\": 1e-6, \\\n",
    "            \"data_augment\": True}\n",
    "\n",
    "# Training process setup\n",
    "img_trans = transforms.Compose([transforms.Resize((250,250)),transforms.ToTensor()])\n",
    "label_trans = transforms.Compose([])\n",
    "body_train = BodyPoseSet(img_transform=img_trans, label_transform = label_trans)\n",
    "train_loader = DataLoader(body_train, batch_size=configs['batch_train'], shuffle=True, num_workers=configs['num_workers'])\n",
    "\n",
    "# Training the net\n",
    "net = Body_Net().cuda()\n",
    "net.eval()\n",
    "optimizer = optim.Adam(net.parameters(), lr = configs['learning_rate'])\n",
    "total_epoch = configs['epochs']\n",
    "counter = []\n",
    "loss_history = []\n",
    "iteration = 0 \n",
    "#    loss_fn = Cross_Entropy_Loss()\n",
    "loss_fn = nn.NLLLoss2d()"
   ]
  },
  {
   "cell_type": "code",
   "execution_count": 5,
   "metadata": {},
   "outputs": [],
   "source": [
    "for batch_idx, batch_sample in enumerate(train_loader):\n",
    "    img = batch_sample['img']\n",
    "    label = batch_sample['label'].long()\n",
    "    img1, y = Variable(img).cuda(), Variable(label).cuda()\n",
    "    y_pred = net(img1)\n",
    "    loss = loss_fn(y_pred, y)\n",
    "    if batch_idx == 1:\n",
    "        break"
   ]
  },
  {
   "cell_type": "code",
   "execution_count": 8,
   "metadata": {},
   "outputs": [
    {
     "name": "stdout",
     "output_type": "stream",
     "text": [
      "[ 0  1  3  5  6  7  8 10 14 15 17 19 21 22 23 24 25 26 27 28 29 30 31 32 33\n",
      " 34 35 37 38 40 42]\n"
     ]
    }
   ],
   "source": [
    "np_y = y.data.cpu().numpy()\n",
    "print np.unique(np_y[0])"
   ]
  },
  {
   "cell_type": "code",
   "execution_count": 12,
   "metadata": {},
   "outputs": [],
   "source": [
    "from matplotlib import pyplot as plt"
   ]
  },
  {
   "cell_type": "code",
   "execution_count": 13,
   "metadata": {},
   "outputs": [
    {
     "data": {
      "image/png": "[encoded data removed]",
      "text/plain": [
       "<matplotlib.figure.Figure at 0x7fbee9a55790>"
      ]
     },
     "metadata": {},
     "output_type": "display_data"
    }
   ],
   "source": [
    "np_y_single =np_y[0]\n",
    "plt.imshow(np_y_single)\n",
    "plt.show()"
   ]
  },
  {
   "cell_type": "code",
   "execution_count": 10,
   "metadata": {},
   "outputs": [
    {
     "name": "stdout",
     "output_type": "stream",
     "text": [
      "(16, 44, 250, 250)\n"
     ]
    }
   ],
   "source": [
    "np_ypred = y_pred.data.cpu().numpy()\n",
    "print np_ypred.shape"
   ]
  },
  {
   "cell_type": "code",
   "execution_count": 11,
   "metadata": {
    "collapsed": true
   },
   "outputs": [
    {
     "name": "stdout",
     "output_type": "stream",
     "text": [
      "2295\n",
      "284\n",
      "1442\n",
      "1941\n",
      "1073\n",
      "205\n",
      "2537\n",
      "2010\n",
      "1451\n",
      "170\n",
      "2552\n",
      "1986\n",
      "598\n",
      "4779\n",
      "2583\n",
      "683\n",
      "2241\n",
      "1240\n",
      "624\n",
      "1707\n",
      "1711\n",
      "764\n",
      "1752\n",
      "1158\n",
      "1507\n",
      "871\n",
      "215\n",
      "1813\n",
      "748\n",
      "428\n",
      "3067\n",
      "2643\n",
      "2323\n",
      "1351\n",
      "394\n",
      "1598\n",
      "1771\n",
      "1726\n",
      "1299\n",
      "224\n",
      "631\n",
      "1783\n",
      "86\n",
      "236\n"
     ]
    }
   ],
   "source": [
    "# print np_ypred[0]\n",
    "single_ypred = np_ypred[0]\n",
    "\n",
    "layer_distr_y = []\n",
    "for i in range(44):\n",
    "    layer_distr_y.append([])\n",
    "# print len(layer_distr_y)\n",
    "for i in range(250):\n",
    "    for j in range(250):\n",
    "        layer = np.argmax(single_ypred[:,i,j])\n",
    "        layer_distr_y[layer].append([i,j])\n",
    "\n",
    "for i in range(44):\n",
    "    print len(layer_distr_y[i])\n",
    "\n",
    "pred_img = np.zeros([250,250])\n",
    "for i in range(44):\n",
    "    for j in range(len(layer_distr_y[i])):\n",
    "        x,y = layer_distr_y[i][j]\n",
    "        pred_img[x,y] = i"
   ]
  },
  {
   "cell_type": "code",
   "execution_count": 14,
   "metadata": {},
   "outputs": [
    {
     "data": {
      "image/png": "[encoded data removed]",
      "text/plain": [
       "<matplotlib.figure.Figure at 0x7fbe98c14390>"
      ]
     },
     "metadata": {},
     "output_type": "display_data"
    }
   ],
   "source": [
    "plt.imshow(pred_img)\n",
    "plt.show()"
   ]
  },
  {
   "cell_type": "code",
   "execution_count": 16,
   "metadata": {},
   "outputs": [
    {
     "ename": "KeyError",
     "evalue": "'='",
     "output_type": "error",
     "traceback": [
      "\u001b[0;31m---------------------------------------------------------------------------\u001b[0m",
      "\u001b[0;31mKeyError\u001b[0m                                  Traceback (most recent call last)",
      "\u001b[0;32m<ipython-input-16-e4b795513459>\u001b[0m in \u001b[0;36m<module>\u001b[0;34m()\u001b[0m\n\u001b[1;32m      1\u001b[0m \u001b[0;32mimport\u001b[0m \u001b[0mpickle\u001b[0m\u001b[0;34m\u001b[0m\u001b[0m\n\u001b[1;32m      2\u001b[0m \u001b[0;32mwith\u001b[0m \u001b[0mopen\u001b[0m\u001b[0;34m(\u001b[0m\u001b[0;34m\"training_history.txt\"\u001b[0m\u001b[0;34m,\u001b[0m\u001b[0;34m\"rb\"\u001b[0m\u001b[0;34m)\u001b[0m \u001b[0;32mas\u001b[0m \u001b[0mfp\u001b[0m\u001b[0;34m:\u001b[0m\u001b[0;34m\u001b[0m\u001b[0m\n\u001b[0;32m----> 3\u001b[0;31m     \u001b[0mb\u001b[0m \u001b[0;34m=\u001b[0m \u001b[0mpickle\u001b[0m\u001b[0;34m.\u001b[0m\u001b[0mload\u001b[0m\u001b[0;34m(\u001b[0m\u001b[0mfp\u001b[0m\u001b[0;34m)\u001b[0m\u001b[0;34m\u001b[0m\u001b[0m\n\u001b[0m\u001b[1;32m      4\u001b[0m \u001b[0mplt\u001b[0m\u001b[0;34m.\u001b[0m\u001b[0mplot\u001b[0m\u001b[0;34m(\u001b[0m\u001b[0mb\u001b[0m\u001b[0;34m[\u001b[0m\u001b[0;36m0\u001b[0m\u001b[0;34m]\u001b[0m\u001b[0;34m,\u001b[0m\u001b[0mb\u001b[0m\u001b[0;34m[\u001b[0m\u001b[0;36m1\u001b[0m\u001b[0;34m]\u001b[0m\u001b[0;34m)\u001b[0m\u001b[0;34m\u001b[0m\u001b[0m\n\u001b[1;32m      5\u001b[0m \u001b[0mplt\u001b[0m\u001b[0;34m.\u001b[0m\u001b[0mshow\u001b[0m\u001b[0;34m(\u001b[0m\u001b[0;34m)\u001b[0m\u001b[0;34m\u001b[0m\u001b[0m\n",
      "\u001b[0;32m/usr/lib/python2.7/pickle.pyc\u001b[0m in \u001b[0;36mload\u001b[0;34m(file)\u001b[0m\n\u001b[1;32m   1382\u001b[0m \u001b[0;34m\u001b[0m\u001b[0m\n\u001b[1;32m   1383\u001b[0m \u001b[0;32mdef\u001b[0m \u001b[0mload\u001b[0m\u001b[0;34m(\u001b[0m\u001b[0mfile\u001b[0m\u001b[0;34m)\u001b[0m\u001b[0;34m:\u001b[0m\u001b[0;34m\u001b[0m\u001b[0m\n\u001b[0;32m-> 1384\u001b[0;31m     \u001b[0;32mreturn\u001b[0m \u001b[0mUnpickler\u001b[0m\u001b[0;34m(\u001b[0m\u001b[0mfile\u001b[0m\u001b[0;34m)\u001b[0m\u001b[0;34m.\u001b[0m\u001b[0mload\u001b[0m\u001b[0;34m(\u001b[0m\u001b[0;34m)\u001b[0m\u001b[0;34m\u001b[0m\u001b[0m\n\u001b[0m\u001b[1;32m   1385\u001b[0m \u001b[0;34m\u001b[0m\u001b[0m\n\u001b[1;32m   1386\u001b[0m \u001b[0;32mdef\u001b[0m \u001b[0mloads\u001b[0m\u001b[0;34m(\u001b[0m\u001b[0mstr\u001b[0m\u001b[0;34m)\u001b[0m\u001b[0;34m:\u001b[0m\u001b[0;34m\u001b[0m\u001b[0m\n",
      "\u001b[0;32m/usr/lib/python2.7/pickle.pyc\u001b[0m in \u001b[0;36mload\u001b[0;34m(self)\u001b[0m\n\u001b[1;32m    862\u001b[0m             \u001b[0;32mwhile\u001b[0m \u001b[0;36m1\u001b[0m\u001b[0;34m:\u001b[0m\u001b[0;34m\u001b[0m\u001b[0m\n\u001b[1;32m    863\u001b[0m                 \u001b[0mkey\u001b[0m \u001b[0;34m=\u001b[0m \u001b[0mread\u001b[0m\u001b[0;34m(\u001b[0m\u001b[0;36m1\u001b[0m\u001b[0;34m)\u001b[0m\u001b[0;34m\u001b[0m\u001b[0m\n\u001b[0;32m--> 864\u001b[0;31m                 \u001b[0mdispatch\u001b[0m\u001b[0;34m[\u001b[0m\u001b[0mkey\u001b[0m\u001b[0;34m]\u001b[0m\u001b[0;34m(\u001b[0m\u001b[0mself\u001b[0m\u001b[0;34m)\u001b[0m\u001b[0;34m\u001b[0m\u001b[0m\n\u001b[0m\u001b[1;32m    865\u001b[0m         \u001b[0;32mexcept\u001b[0m \u001b[0m_Stop\u001b[0m\u001b[0;34m,\u001b[0m \u001b[0mstopinst\u001b[0m\u001b[0;34m:\u001b[0m\u001b[0;34m\u001b[0m\u001b[0m\n\u001b[1;32m    866\u001b[0m             \u001b[0;32mreturn\u001b[0m \u001b[0mstopinst\u001b[0m\u001b[0;34m.\u001b[0m\u001b[0mvalue\u001b[0m\u001b[0;34m\u001b[0m\u001b[0m\n",
      "\u001b[0;31mKeyError\u001b[0m: '='"
     ]
    }
   ],
   "source": [
    "import pickle\n",
    "with open(\"training_history.txt\",\"rb\") as fp:\n",
    "    b = pickle.load(fp)\n",
    "plt.plot(b[0],b[1])\n",
    "plt.show()"
   ]
  }
 ],
 "metadata": {
  "kernelspec": {
   "display_name": "Python 2",
   "language": "python",
   "name": "python2"
  },
  "language_info": {
   "codemirror_mode": {
    "name": "ipython",
    "version": 2
   },
   "file_extension": ".py",
   "mimetype": "text/x-python",
   "name": "python",
   "nbconvert_exporter": "python",
   "pygments_lexer": "ipython2",
   "version": "2.7.12"
  }
 },
 "nbformat": 4,
 "nbformat_minor": 2
}
